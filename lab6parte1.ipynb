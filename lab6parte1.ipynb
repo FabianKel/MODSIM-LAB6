{
 "cells": [
  {
   "cell_type": "markdown",
   "id": "3d8b16b2",
   "metadata": {},
   "source": [
    "# **Laboratorio 6**\n",
    "## **Parte 1**\n",
    "\n",
    "- Derek Arreaga - 22537\n",
    "- Paula Barillas - 22764\n",
    "- Mónica Salvatierra - 22249\n",
    "\n"
   ]
  },
  {
   "cell_type": "markdown",
   "id": "fdb2d1df",
   "metadata": {},
   "source": [
    "### **Teoría** \n",
    "\n",
    "### **Parte 1**\n",
    "\n",
    "Defina y responda"
   ]
  },
  {
   "cell_type": "markdown",
   "id": "1bd94909",
   "metadata": {},
   "source": [
    "1. El ELE se encuentra en (S* = N, I* = 0). Describa en términos conceptuales por qué este es un estado de \"balance\" en el sistema. ¿Qué flujos de entrada y salida se están equilibrando exactamente en el compartimento de susceptibles (S) para que su nivel permanezca constante?\n",
    "\n",
    "- El equilibrio libre de enfermedad (ELE) ocurre cuando en la población ya no hay individuos infectados, por lo que no se están produciendo nuevos contagios. Aun así, el sistema se mantiene en un estado de balance porque los flujos que aumentan y reducen el número de susceptibles se compensan entre sí. En este caso, las entradas al compartimiento de susceptibles provienen de los nacimientos, mientras que las salidas se deben a las muertes naturales.\n",
    "<br>\n",
    "<br>\n",
    "Como no hay infectados, tampoco hay flujo por infección, y el número total de susceptibles permanece constante. En otras palabras, el sistema está estable porque la tasa con la que nacen nuevos susceptibles es igual a la tasa con la que mueren, sin que se produzcan nuevos contagios que alteren ese equilibrio.\n",
    "\n",
    "<br>\n",
    "\n",
    "2. El equilibrio endémico representa un estado donde la enfermedad persiste de forma estable. Explique la tensión fundamental que existe en este equilibrio. ¿Qué fuerza impulsa el aumento de infecciones y qué fuerza contraria la frena, permitiendo que el número de infectados I* se mantenga constante y no sea cero?\n",
    "\n",
    "- El equilibrio endémico ocurre cuando la enfermedad no desaparece, sino que se mantiene estable dentro de la población. En este punto hay una tensión constante entre dos fuerzas opuestas.\n",
    "Por un lado, la fuerza que impulsa el aumento de infecciones es el contacto entre personas susceptibles e infectadas: mientras existan susceptibles, los infectados pueden seguir transmitiendo la enfermedad.\n",
    "<br>\n",
    "<br>\n",
    "Por otro lado, la fuerza que frena el crecimiento es la recuperación o muerte de los infectados, ya que reduce el número de personas capaces de contagiar. Cuando ambas fuerzas se equilibran, es decir, cuando la cantidad de nuevos infectados por unidad de tiempo es igual a la cantidad de personas que se recuperan o mueren, el número de infectados se mantiene constante. \n",
    "\n",
    "<br>\n",
    "\n",
    "3. Imagine que quiere construir un Modelo Basado en Agentes (MBA) que represente la misma dinámica de este modelo SIR. ¿Cómo implementaría los procesos de \"nacimiento\" (μN) y \"muerte natural\" (μS, μI, μR) a nivel de agentes individuales? Describa las reglas o eventos que programaría para los agentes.\n",
    "<br>\n",
    "<br>\n",
    "- En un Modelo Basado en Agentes, cada individuo se representa como un agente con su propio estado y comportamiento. Para incluir los procesos de nacimiento (μN) y muerte natural (μS, μI, μR), se definen reglas que determinan cuándo aparece o desaparece un agente.\n",
    "<br>\n",
    "<br>\n",
    "Por ejemplo, en cada paso del tiempo, cada agente puede tener una probabilidad de morir según su estado (susceptible, infectado o recuperado). De la misma forma, pueden nacer nuevos agentes que se incorporan al sistema como susceptibles. Estas reglas se programan como eventos aleatorios que se ejecutan a nivel individual. Así, el modelo reproduce los mismos procesos del modelo SIR, pero con variabilidad entre los agentes. Por ejemplo, algunos pueden morir o nacer en momentos distintos, haciendo que el sistema sea más realista y dinámico.\n",
    "\n",
    "<br>\n",
    "\n",
    "4. Si ejecutara su MBA y graficara el número total de susceptibles contra el número total de infectados (un espacio de estados proyectado), ¿esperaría que las trayectorias se vieran idénticas a las del modelo de ecuaciones diferenciales? ¿Por qué sí o por qué no? Mencione al menos un factor clave inherente a los MBA que introduciría diferencias en el gráfico.\n",
    "\n",
    "- Las trayectorias del Modelo Basado en Agentes no serían exactamente iguales a las del modelo de ecuaciones diferenciales. Aunque ambos representan el mismo fenómeno epidemiológico, el MBA introduce variabilidad individual, mientras que el modelo que utiliza ecuaciones diferenciales describe los promedios del comportamiento colectivo.\n",
    "<br>\n",
    "<br>\n",
    "En el modelo de ecuaciones diferenciales, los cambios en las poblaciones susceptibles, infectadas y recuperadas son suaves y continuos, ya que se basan en tasas promedio. En cambio, en el MBA los contagios, muertes y nacimientos ocurren de forma discreta y aleatoria, dependiendo de las interacciones específicas entre los agentes.\n",
    "<br>\n",
    "<br>\n",
    "Por eso, las curvas del MBA tienden a variar y a mostrar diferencias entre corridas, especialmente cuando la población es pequeña. Un factor clave que genera esas diferencias es la estocasticidad de los contactos. En el MBA no todos los individuos interactúan igual ni al mismo tiempo, lo que hace que los resultados sean más realistas, pero también más variables que los del modelo \"teórico\"."
   ]
  },
  {
   "cell_type": "markdown",
   "id": "2ea680bd",
   "metadata": {},
   "source": [
    "### **Referencias**\n",
    "\n",
    "1. Equilibrio endémico. (s. f.). ScienceDirect. Recuperado 9 de octubre de 2025, de https://www.sciencedirect.com/topics/mathematics/endemic-equilibrium\n",
    "\n",
    "2. Von Csefalvay, C. (2023). Temporal dynamics of epidemics. In Elsevier eBooks (pp. 217–255). https://doi.org/10.1016/b978-0-32-395389-4.00016-5\n",
    "\n"
   ]
  }
 ],
 "metadata": {
  "language_info": {
   "name": "python"
  }
 },
 "nbformat": 4,
 "nbformat_minor": 5
}
